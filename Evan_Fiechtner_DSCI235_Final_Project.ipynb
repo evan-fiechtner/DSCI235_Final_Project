{
 "cells": [
  {
   "cell_type": "markdown",
   "id": "99cd6bc7",
   "metadata": {},
   "source": [
    "# DSCI 235 Project #"
   ]
  },
  {
   "cell_type": "markdown",
   "id": "a1b8d21c",
   "metadata": {},
   "source": [
    "Evan Fiechtner - DSCI 235.  \n",
    "**The data that I am working with is information of the housing price index from the first quarter of 1975 (1975.1) to the last quarter of 2021 (2021.4).  The second dataset I am working with is the average income of all states in the US, in 2020.  The data is from the Federal Reserve Bank of St. Louis, and I used excel to compile all 50 different states into one dataset.**Data from Federal Reserve Bank of St. Louis, using excel to compile all 50 states into one dataset.  \n",
    "HPI dataframe has 9776 rows, income has 51 rows"
   ]
  },
  {
   "cell_type": "markdown",
   "id": "8fce4180",
   "metadata": {},
   "source": [
    "**The notebook below contains my questions, the code, and a small reflection/analysis of the question after each code chunk.  There will be a conclusion at the end of the notebook, as well as a summary of the questions that were answered.**"
   ]
  },
  {
   "cell_type": "code",
   "execution_count": 1,
   "id": "28ca01db",
   "metadata": {},
   "outputs": [],
   "source": [
    "import pandas as pd\n",
    "import numpy as np\n",
    "import matplotlib.pyplot as plt\n",
    "import warnings\n",
    "warnings.filterwarnings('ignore') # I added this because at one point it gives me warnings, but the actual code\n",
    "# functions correctly, so just using this to ignore those warnings to save output space."
   ]
  },
  {
   "cell_type": "markdown",
   "id": "11d73d6e",
   "metadata": {},
   "source": [
    "## Data sets to read from"
   ]
  },
  {
   "cell_type": "code",
   "execution_count": 2,
   "id": "c72ffce0",
   "metadata": {},
   "outputs": [
    {
     "data": {
      "text/html": [
       "<div>\n",
       "<style scoped>\n",
       "    .dataframe tbody tr th:only-of-type {\n",
       "        vertical-align: middle;\n",
       "    }\n",
       "\n",
       "    .dataframe tbody tr th {\n",
       "        vertical-align: top;\n",
       "    }\n",
       "\n",
       "    .dataframe thead th {\n",
       "        text-align: right;\n",
       "    }\n",
       "</style>\n",
       "<table border=\"1\" class=\"dataframe\">\n",
       "  <thead>\n",
       "    <tr style=\"text-align: right;\">\n",
       "      <th></th>\n",
       "      <th>state</th>\n",
       "      <th>year</th>\n",
       "      <th>quarter</th>\n",
       "      <th>price</th>\n",
       "    </tr>\n",
       "  </thead>\n",
       "  <tbody>\n",
       "    <tr>\n",
       "      <th>0</th>\n",
       "      <td>AL</td>\n",
       "      <td>1975</td>\n",
       "      <td>1</td>\n",
       "      <td>75.09</td>\n",
       "    </tr>\n",
       "    <tr>\n",
       "      <th>1</th>\n",
       "      <td>AL</td>\n",
       "      <td>1975</td>\n",
       "      <td>2</td>\n",
       "      <td>72.29</td>\n",
       "    </tr>\n",
       "    <tr>\n",
       "      <th>2</th>\n",
       "      <td>AL</td>\n",
       "      <td>1975</td>\n",
       "      <td>3</td>\n",
       "      <td>74.60</td>\n",
       "    </tr>\n",
       "    <tr>\n",
       "      <th>3</th>\n",
       "      <td>AL</td>\n",
       "      <td>1975</td>\n",
       "      <td>4</td>\n",
       "      <td>71.76</td>\n",
       "    </tr>\n",
       "    <tr>\n",
       "      <th>4</th>\n",
       "      <td>AL</td>\n",
       "      <td>1976</td>\n",
       "      <td>1</td>\n",
       "      <td>77.17</td>\n",
       "    </tr>\n",
       "  </tbody>\n",
       "</table>\n",
       "</div>"
      ],
      "text/plain": [
       "  state  year  quarter  price\n",
       "0    AL  1975        1  75.09\n",
       "1    AL  1975        2  72.29\n",
       "2    AL  1975        3  74.60\n",
       "3    AL  1975        4  71.76\n",
       "4    AL  1976        1  77.17"
      ]
     },
     "execution_count": 2,
     "metadata": {},
     "output_type": "execute_result"
    }
   ],
   "source": [
    "hpi = pd.read_csv('https://raw.githubusercontent.com/evan-fiechtner/DSCI235_Final_Project/main/organized_states.csv')\n",
    "hpi.head()"
   ]
  },
  {
   "cell_type": "code",
   "execution_count": 508,
   "id": "578267c6",
   "metadata": {},
   "outputs": [
    {
     "data": {
      "text/html": [
       "<div>\n",
       "<style scoped>\n",
       "    .dataframe tbody tr th:only-of-type {\n",
       "        vertical-align: middle;\n",
       "    }\n",
       "\n",
       "    .dataframe tbody tr th {\n",
       "        vertical-align: top;\n",
       "    }\n",
       "\n",
       "    .dataframe thead th {\n",
       "        text-align: right;\n",
       "    }\n",
       "</style>\n",
       "<table border=\"1\" class=\"dataframe\">\n",
       "  <thead>\n",
       "    <tr style=\"text-align: right;\">\n",
       "      <th></th>\n",
       "      <th>state</th>\n",
       "      <th>average income</th>\n",
       "    </tr>\n",
       "  </thead>\n",
       "  <tbody>\n",
       "    <tr>\n",
       "      <th>0</th>\n",
       "      <td>AL</td>\n",
       "      <td>69842</td>\n",
       "    </tr>\n",
       "    <tr>\n",
       "      <th>1</th>\n",
       "      <td>AK</td>\n",
       "      <td>98606</td>\n",
       "    </tr>\n",
       "    <tr>\n",
       "      <th>2</th>\n",
       "      <td>AZ</td>\n",
       "      <td>80779</td>\n",
       "    </tr>\n",
       "    <tr>\n",
       "      <th>3</th>\n",
       "      <td>AR</td>\n",
       "      <td>66557</td>\n",
       "    </tr>\n",
       "    <tr>\n",
       "      <th>4</th>\n",
       "      <td>CA</td>\n",
       "      <td>106916</td>\n",
       "    </tr>\n",
       "  </tbody>\n",
       "</table>\n",
       "</div>"
      ],
      "text/plain": [
       "  state  average income\n",
       "0    AL           69842\n",
       "1    AK           98606\n",
       "2    AZ           80779\n",
       "3    AR           66557\n",
       "4    CA          106916"
      ]
     },
     "execution_count": 508,
     "metadata": {},
     "output_type": "execute_result"
    }
   ],
   "source": [
    "household_income = pd.read_csv('https://raw.githubusercontent.com/evan-fiechtner/DSCI235_Final_Project/main/dsci_mean_household_income_2021.csv')\n",
    "household_income.head()"
   ]
  },
  {
   "cell_type": "code",
   "execution_count": 509,
   "id": "2092cabc",
   "metadata": {},
   "outputs": [
    {
     "data": {
      "text/html": [
       "<div>\n",
       "<style scoped>\n",
       "    .dataframe tbody tr th:only-of-type {\n",
       "        vertical-align: middle;\n",
       "    }\n",
       "\n",
       "    .dataframe tbody tr th {\n",
       "        vertical-align: top;\n",
       "    }\n",
       "\n",
       "    .dataframe thead th {\n",
       "        text-align: right;\n",
       "    }\n",
       "</style>\n",
       "<table border=\"1\" class=\"dataframe\">\n",
       "  <thead>\n",
       "    <tr style=\"text-align: right;\">\n",
       "      <th></th>\n",
       "      <th></th>\n",
       "      <th></th>\n",
       "      <th>price</th>\n",
       "    </tr>\n",
       "    <tr>\n",
       "      <th>state</th>\n",
       "      <th>year</th>\n",
       "      <th>quarter</th>\n",
       "      <th></th>\n",
       "    </tr>\n",
       "  </thead>\n",
       "  <tbody>\n",
       "    <tr>\n",
       "      <th rowspan=\"5\" valign=\"top\">AL</th>\n",
       "      <th rowspan=\"4\" valign=\"top\">1975</th>\n",
       "      <th>1</th>\n",
       "      <td>75.09</td>\n",
       "    </tr>\n",
       "    <tr>\n",
       "      <th>2</th>\n",
       "      <td>72.29</td>\n",
       "    </tr>\n",
       "    <tr>\n",
       "      <th>3</th>\n",
       "      <td>74.60</td>\n",
       "    </tr>\n",
       "    <tr>\n",
       "      <th>4</th>\n",
       "      <td>71.76</td>\n",
       "    </tr>\n",
       "    <tr>\n",
       "      <th>1976</th>\n",
       "      <th>1</th>\n",
       "      <td>77.17</td>\n",
       "    </tr>\n",
       "  </tbody>\n",
       "</table>\n",
       "</div>"
      ],
      "text/plain": [
       "                    price\n",
       "state year quarter       \n",
       "AL    1975 1        75.09\n",
       "           2        72.29\n",
       "           3        74.60\n",
       "           4        71.76\n",
       "      1976 1        77.17"
      ]
     },
     "execution_count": 509,
     "metadata": {},
     "output_type": "execute_result"
    }
   ],
   "source": [
    "hpi_1=hpi.set_index(['state','year', 'quarter'])\n",
    "hpi_1.head()"
   ]
  },
  {
   "cell_type": "markdown",
   "id": "21657852",
   "metadata": {},
   "source": [
    "### Merged Dataset with Income and Housing Price Index, on 'state'"
   ]
  },
  {
   "cell_type": "code",
   "execution_count": 510,
   "id": "662425d7",
   "metadata": {},
   "outputs": [
    {
     "data": {
      "text/html": [
       "<div>\n",
       "<style scoped>\n",
       "    .dataframe tbody tr th:only-of-type {\n",
       "        vertical-align: middle;\n",
       "    }\n",
       "\n",
       "    .dataframe tbody tr th {\n",
       "        vertical-align: top;\n",
       "    }\n",
       "\n",
       "    .dataframe thead th {\n",
       "        text-align: right;\n",
       "    }\n",
       "</style>\n",
       "<table border=\"1\" class=\"dataframe\">\n",
       "  <thead>\n",
       "    <tr style=\"text-align: right;\">\n",
       "      <th></th>\n",
       "      <th>state</th>\n",
       "      <th>year</th>\n",
       "      <th>quarter</th>\n",
       "      <th>price</th>\n",
       "      <th>average income</th>\n",
       "    </tr>\n",
       "  </thead>\n",
       "  <tbody>\n",
       "    <tr>\n",
       "      <th>0</th>\n",
       "      <td>AL</td>\n",
       "      <td>1975</td>\n",
       "      <td>1</td>\n",
       "      <td>75.09</td>\n",
       "      <td>69842</td>\n",
       "    </tr>\n",
       "    <tr>\n",
       "      <th>1</th>\n",
       "      <td>AL</td>\n",
       "      <td>1975</td>\n",
       "      <td>2</td>\n",
       "      <td>72.29</td>\n",
       "      <td>69842</td>\n",
       "    </tr>\n",
       "    <tr>\n",
       "      <th>2</th>\n",
       "      <td>AL</td>\n",
       "      <td>1975</td>\n",
       "      <td>3</td>\n",
       "      <td>74.60</td>\n",
       "      <td>69842</td>\n",
       "    </tr>\n",
       "    <tr>\n",
       "      <th>3</th>\n",
       "      <td>AL</td>\n",
       "      <td>1975</td>\n",
       "      <td>4</td>\n",
       "      <td>71.76</td>\n",
       "      <td>69842</td>\n",
       "    </tr>\n",
       "    <tr>\n",
       "      <th>4</th>\n",
       "      <td>AL</td>\n",
       "      <td>1976</td>\n",
       "      <td>1</td>\n",
       "      <td>77.17</td>\n",
       "      <td>69842</td>\n",
       "    </tr>\n",
       "  </tbody>\n",
       "</table>\n",
       "</div>"
      ],
      "text/plain": [
       "  state  year  quarter  price  average income\n",
       "0    AL  1975        1  75.09           69842\n",
       "1    AL  1975        2  72.29           69842\n",
       "2    AL  1975        3  74.60           69842\n",
       "3    AL  1975        4  71.76           69842\n",
       "4    AL  1976        1  77.17           69842"
      ]
     },
     "execution_count": 510,
     "metadata": {},
     "output_type": "execute_result"
    }
   ],
   "source": [
    "income_hpi = hpi.merge(household_income, on='state')\n",
    "income_hpi.head()"
   ]
  },
  {
   "cell_type": "markdown",
   "id": "b95483fb",
   "metadata": {},
   "source": [
    "# Part 1: Questions about Housing Price Index (HPI)"
   ]
  },
  {
   "cell_type": "markdown",
   "id": "6f067231",
   "metadata": {},
   "source": [
    "**What is the state with the highest starting HPI?**"
   ]
  },
  {
   "cell_type": "code",
   "execution_count": 478,
   "id": "0da18567",
   "metadata": {},
   "outputs": [
    {
     "data": {
      "text/plain": [
       "state         NH\n",
       "year        1975\n",
       "quarter        1\n",
       "price      78.45\n",
       "Name: 5452, dtype: object"
      ]
     },
     "execution_count": 478,
     "metadata": {},
     "output_type": "execute_result"
    }
   ],
   "source": [
    "# highest starting price\n",
    "year_1975 = hpi[hpi['year'] == 1975]\n",
    "q1_y75 = year_1975[year_1975['quarter'] == 1]\n",
    "q1_y75['price'].idxmax()\n",
    "q1_y75.loc[5452]"
   ]
  },
  {
   "cell_type": "markdown",
   "id": "dca7b1e3",
   "metadata": {},
   "source": [
    "The state with the highest starting price (i.e. highest price in the first quarter of 1975) is Hew Hampshire, at 78.45."
   ]
  },
  {
   "cell_type": "markdown",
   "id": "d17b264a",
   "metadata": {},
   "source": [
    "**What is the state with the lowest starting HPI?**"
   ]
  },
  {
   "cell_type": "code",
   "execution_count": 480,
   "id": "751e123d",
   "metadata": {},
   "outputs": [
    {
     "data": {
      "text/plain": [
       "state         CA\n",
       "year        1975\n",
       "quarter        1\n",
       "price      41.68\n",
       "Name: 752, dtype: object"
      ]
     },
     "execution_count": 480,
     "metadata": {},
     "output_type": "execute_result"
    }
   ],
   "source": [
    "q1_y75['price'].idxmin()\n",
    "q1_y75.loc[752]"
   ]
  },
  {
   "cell_type": "markdown",
   "id": "c523554a",
   "metadata": {},
   "source": [
    "The states with the lowest starting HPI is California, at a price index of 41.68.  This was actually a big shock to me.  I would not have thought that California, the largest state in the West Coast, would have been the cheapest state to live in.  California is known for being really pricey overall, so I'm surprised the index was so small in the 70s."
   ]
  },
  {
   "cell_type": "markdown",
   "id": "183d2c70",
   "metadata": {},
   "source": [
    "**What is the state with the highest ending HPI?**"
   ]
  },
  {
   "cell_type": "code",
   "execution_count": 482,
   "id": "cbbd4cfb",
   "metadata": {},
   "outputs": [
    {
     "data": {
      "text/plain": [
       "state           MA\n",
       "year          2021\n",
       "quarter          4\n",
       "price      1010.42\n",
       "Name: 3947, dtype: object"
      ]
     },
     "execution_count": 482,
     "metadata": {},
     "output_type": "execute_result"
    }
   ],
   "source": [
    "# highest ending price\n",
    "year_2021 = hpi[hpi['year'] == 2021]\n",
    "q4_y21 = year_2021[year_2021['quarter'] == 4]\n",
    "q4_y21['price'].idxmax()\n",
    "q4_y21.loc[3947]"
   ]
  },
  {
   "cell_type": "markdown",
   "id": "2092a06c",
   "metadata": {},
   "source": [
    "The state with the highest ending price (i.e. the highest price at the end of the dataset, 2021 quarter 4) is Massachusetts, with an ending price index of 1010.42.  This is a little surprising, I originally would've thought that the states would remain the same for the beginning and end, but overall, Massachusetts makes sense, as it's a popular state on the east coast."
   ]
  },
  {
   "cell_type": "markdown",
   "id": "78f85491",
   "metadata": {},
   "source": [
    "**What is the state with the lowest ending HPI?**"
   ]
  },
  {
   "cell_type": "code",
   "execution_count": 484,
   "id": "34b79e13",
   "metadata": {},
   "outputs": [
    {
     "data": {
      "text/plain": [
       "state          WV\n",
       "year         2021\n",
       "quarter         4\n",
       "price      280.26\n",
       "Name: 9211, dtype: object"
      ]
     },
     "execution_count": 484,
     "metadata": {},
     "output_type": "execute_result"
    }
   ],
   "source": [
    "q4_y21['price'].idxmin()\n",
    "q4_y21.loc[9211]"
   ]
  },
  {
   "cell_type": "markdown",
   "id": "880daf71",
   "metadata": {},
   "source": [
    "West Virginia is the state with the lowest ending HPI, at 280.26.  This wasn't really surprising to me, I knew that WV was having struggles getting people to move there, and actually began incentive programs to get younger adults to live there for a long period of time."
   ]
  },
  {
   "cell_type": "markdown",
   "id": "d206614f",
   "metadata": {},
   "source": [
    "**What is the state with the lowest average HPI**"
   ]
  },
  {
   "cell_type": "code",
   "execution_count": 485,
   "id": "edd954dd",
   "metadata": {},
   "outputs": [
    {
     "name": "stdout",
     "output_type": "stream",
     "text": [
      "WV\n"
     ]
    },
    {
     "data": {
      "text/plain": [
       "280.26"
      ]
     },
     "execution_count": 485,
     "metadata": {},
     "output_type": "execute_result"
    }
   ],
   "source": [
    "# lowest average price \n",
    "print(hpi.groupby('state')['price'].mean().idxmin())\n",
    "hpi[hpi['state'] == 'WV']['price'].min()\n",
    "hpi[hpi['state'] == 'WV']['price'].max()"
   ]
  },
  {
   "cell_type": "markdown",
   "id": "ed1847ff",
   "metadata": {},
   "source": [
    "The state with the lowest average price, throughout the entire time frame is West Virginia.  The minimum price of West Virginia was in 1975 quarter 1, with a price index of 50.19.  The maximum price of West Virginia is the most recent, 2021 quarter 4, with a price index of 280.26.  \n",
    "Overall this result is not surprising to me.  As a given, usually HPI continually rises over the years, unless there is a large recession or something like that.  So, given that WV finished at 280.26, which is extremely low compared to other states, it makes sense they'd have the lowest average throughout the data set."
   ]
  },
  {
   "cell_type": "markdown",
   "id": "f175a464",
   "metadata": {},
   "source": [
    "**What is the state with the highest average HPI**"
   ]
  },
  {
   "cell_type": "code",
   "execution_count": 375,
   "id": "8e7807b6",
   "metadata": {},
   "outputs": [
    {
     "name": "stdout",
     "output_type": "stream",
     "text": [
      "MA\n"
     ]
    },
    {
     "data": {
      "text/plain": [
       "1010.42"
      ]
     },
     "execution_count": 375,
     "metadata": {},
     "output_type": "execute_result"
    }
   ],
   "source": [
    "# Highest average price\n",
    "print(hpi.groupby('state')['price'].mean().idxmax())\n",
    "hpi[hpi['state'] == 'MA']['price'].min()\n",
    "hpi[hpi['state'] == 'MA']['price'].max()"
   ]
  },
  {
   "cell_type": "markdown",
   "id": "d08495a6",
   "metadata": {},
   "source": [
    "The state with the highest average price, throughout the entire time frame is Massachusetts.  The minimum price of Massachusetts was in the year 1975, quarter 2, with a price index of 66.01.  This is kind of interesting, because it means that the trend was negative for this first quarter change.  \n",
    "The maximum price of Massachusetts was in 2021, quarter 4, with a price index of 1010.42.  \n",
    "This is to be expected.  Although it was not the most expensive in the beginning, a price index of over 1,000 is well over what one would've expected.  Considering this extreme value, and the fact that MA is a popular east coast state, it makes sense that it has the highest average Housing Price Index."
   ]
  },
  {
   "cell_type": "markdown",
   "id": "d6319fa6",
   "metadata": {},
   "source": [
    "**Top 5 states with the highest average HPI**"
   ]
  },
  {
   "cell_type": "code",
   "execution_count": 486,
   "id": "7ec7da7f",
   "metadata": {},
   "outputs": [
    {
     "data": {
      "text/plain": [
       "state\n",
       "NJ    317.394255\n",
       "CA    318.052819\n",
       "RI    326.165372\n",
       "NY    382.507340\n",
       "MA    427.165691\n",
       "Name: price, dtype: float64"
      ]
     },
     "execution_count": 486,
     "metadata": {},
     "output_type": "execute_result"
    }
   ],
   "source": [
    "# Top 5 states, highest average HPI -- returns sorted list of mean HPI for states\n",
    "income_hpi.groupby('state')['price'].mean().sort_values()\n",
    "\n",
    "# top 5 highest states - MA, NY, RI, CA, NJ\n",
    "MA = income_hpi[income_hpi['state'] == 'MA']\n",
    "NY = income_hpi[income_hpi['state'] == 'NY']\n",
    "RI = income_hpi[income_hpi['state'] == 'RI']\n",
    "CA = income_hpi[income_hpi['state'] == 'CA']\n",
    "NJ = income_hpi[income_hpi['state'] == 'NJ']\n",
    "\n",
    "# Top 5 States Differences\n",
    "MA['first differences'] = MA['price'].diff() # each of these gives warnings, but the actual column is still there\n",
    "NY['first differences'] = NY['price'].diff() # I imported \"to ignore warnings\" above, is used here.\n",
    "RI['first differences'] = RI['price'].diff()\n",
    "CA['first differences'] = CA['price'].diff()\n",
    "NJ['first differences'] = NJ['price'].diff()\n",
    "\n",
    "df1 = pd.merge(MA, NY, how='outer')\n",
    "df2 = pd.merge(RI, CA, how='outer')\n",
    "df3 = pd.merge(df1, df2, how='outer')\n",
    "top_5 = pd.merge(df3, NJ, how='outer')\n",
    "plot_t5 = top_5.groupby('state')['price'].mean().sort_values()\n",
    "plot_t5"
   ]
  },
  {
   "cell_type": "markdown",
   "id": "8128395f",
   "metadata": {},
   "source": [
    "This result was a little surprising to me.  I would not have expected that New Jersey was such an expensive state to live in.  California was expected, but I am surprised that overall, most of the most expensive states to live in are on the East Coast.  Since these are averaged over 1975-2021, I would guess that it means that NJ and RI have just continuously held a higher average throughout the years, as opposed to say Hawaii, who might have been cheaper in the beginning, and more expensive now."
   ]
  },
  {
   "cell_type": "markdown",
   "id": "7dd2d6f2",
   "metadata": {},
   "source": [
    "**Plot the 5 highest housing price indices**"
   ]
  },
  {
   "cell_type": "code",
   "execution_count": 487,
   "id": "59048af8",
   "metadata": {},
   "outputs": [
    {
     "data": {
      "image/png": "[encoded data removed]",
      "text/plain": [
       "<Figure size 432x288 with 1 Axes>"
      ]
     },
     "metadata": {
      "needs_background": "light"
     },
     "output_type": "display_data"
    }
   ],
   "source": [
    "# plot of 5 highest housing indices\n",
    "plot_t5.plot(x ='state', y='price', kind = 'bar', color='g')\n",
    "plt.xlabel('States')\n",
    "plt.ylabel('Price Index')\n",
    "plt.title('Top 5 Highest Price Index States (Average from 1975-2021)')\n",
    "plt.show()"
   ]
  },
  {
   "cell_type": "markdown",
   "id": "677ef576",
   "metadata": {},
   "source": [
    "*Notice how on the graph here, the y-axis has unites from 0-450, while on the other graph its from 0-175*"
   ]
  },
  {
   "cell_type": "markdown",
   "id": "1953e82f",
   "metadata": {},
   "source": [
    "**Top 5 States with the LOWEST average HPI**"
   ]
  },
  {
   "cell_type": "code",
   "execution_count": 488,
   "id": "70b79016",
   "metadata": {},
   "outputs": [
    {
     "data": {
      "text/plain": [
       "state\n",
       "WV    151.419681\n",
       "OK    153.250904\n",
       "LA    170.286968\n",
       "KS    175.198883\n",
       "TX    176.229787\n",
       "Name: price, dtype: float64"
      ]
     },
     "execution_count": 488,
     "metadata": {},
     "output_type": "execute_result"
    }
   ],
   "source": [
    "# Same as above, this time looking at the lowest state averages\n",
    "income_hpi.groupby('state')['price'].mean().sort_values()\n",
    "\n",
    "# top 5 lowest states - WV, OK, KS, LA, TX\n",
    "WV = income_hpi[income_hpi['state'] == 'WV']\n",
    "OK = income_hpi[income_hpi['state'] == 'OK']\n",
    "KS = income_hpi[income_hpi['state'] == 'KS']\n",
    "LA = income_hpi[income_hpi['state'] == 'LA']\n",
    "TX = income_hpi[income_hpi['state'] == 'TX']\n",
    "# Bottom 5 States Differences\n",
    "WV['first differences'] = WV['price'].diff() # gives warnings, but adds the columns sufficiently\n",
    "OK['first differences'] = OK['price'].diff()\n",
    "KS['first differences'] = KS['price'].diff()\n",
    "LA['first differences'] = LA['price'].diff()\n",
    "TX['first differences'] = TX['price'].diff()\n",
    "df4 = pd.merge(WV, OK, how='outer')\n",
    "df5 = pd.merge(KS, LA, how='outer')\n",
    "df6 = pd.merge(df4, df5, how='outer')\n",
    "bottom_5 = pd.merge(df6, TX, how='outer')\n",
    "bottom_5.groupby('state')['price'].mean().sort_values()"
   ]
  },
  {
   "cell_type": "markdown",
   "id": "1e87d0fc",
   "metadata": {},
   "source": [
    "Honestly, this is pretty close to what I expected.  WV was the cheapest state to live in on average, and the cheapest ending HPI price, so this result makes sense.  Texas is well known for being cheap and all these states are in general around the same area (Southern US), with West Virginia being the only exception.  Even then, we knew that WV was the cheapest state on the East Coast and in general."
   ]
  },
  {
   "cell_type": "markdown",
   "id": "d0653b65",
   "metadata": {},
   "source": [
    "**Plot of 5 lowest housing price indices**"
   ]
  },
  {
   "cell_type": "code",
   "execution_count": 489,
   "id": "4067f685",
   "metadata": {},
   "outputs": [
    {
     "data": {
      "image/png": "[encoded data removed]",
      "text/plain": [
       "<Figure size 432x288 with 1 Axes>"
      ]
     },
     "metadata": {
      "needs_background": "light"
     },
     "output_type": "display_data"
    }
   ],
   "source": [
    "# plot of bottom 5 housing price indices\n",
    "plot_b5 = bottom_5.groupby('state')['price'].mean().sort_values()\n",
    "plot_b5.plot(x ='state', y='price', kind = 'bar', color='r')\n",
    "plt.xlabel('States')\n",
    "plt.ylabel('Price Index')\n",
    "plt.title('Top 5 Lowest Price Index States (Average from 1975-2021)')\n",
    "plt.show()"
   ]
  },
  {
   "cell_type": "markdown",
   "id": "e6164f47",
   "metadata": {},
   "source": [
    "*Notice how on the graph here, the y-axis is from 0-175, while on the first graph it is from 0-450*"
   ]
  },
  {
   "cell_type": "markdown",
   "id": "36957d79",
   "metadata": {},
   "source": [
    "**Plot the first differences for the highest 5 states**"
   ]
  },
  {
   "cell_type": "code",
   "execution_count": 490,
   "id": "a5ab88a6",
   "metadata": {},
   "outputs": [
    {
     "data": {
      "image/png": "[encoded data removed]",
      "text/plain": [
       "<Figure size 432x288 with 1 Axes>"
      ]
     },
     "metadata": {
      "needs_background": "light"
     },
     "output_type": "display_data"
    },
    {
     "data": {
      "image/png": "[encoded data removed]",
      "text/plain": [
       "<Figure size 432x288 with 1 Axes>"
      ]
     },
     "metadata": {
      "needs_background": "light"
     },
     "output_type": "display_data"
    },
    {
     "data": {
      "image/png": "[encoded data removed]",
      "text/plain": [
       "<Figure size 432x288 with 1 Axes>"
      ]
     },
     "metadata": {
      "needs_background": "light"
     },
     "output_type": "display_data"
    },
    {
     "data": {
      "image/png": "[encoded data removed]",
      "text/plain": [
       "<Figure size 432x288 with 1 Axes>"
      ]
     },
     "metadata": {
      "needs_background": "light"
     },
     "output_type": "display_data"
    },
    {
     "data": {
      "image/png": "[encoded data removed]",
      "text/plain": [
       "<Figure size 432x288 with 1 Axes>"
      ]
     },
     "metadata": {
      "needs_background": "light"
     },
     "output_type": "display_data"
    }
   ],
   "source": [
    "# plot of first differences for top 5 states\n",
    "\n",
    "# New Jersey\n",
    "NJ.plot(x='year', y='first differences', label = \"New Jersey\", color='r')\n",
    "plt.xlabel('Years')\n",
    "plt.ylabel('First Difference')\n",
    "\n",
    "# California\n",
    "CA.plot(x='year', y='first differences', label = \"California\", color='g')\n",
    "plt.xlabel('Years')\n",
    "plt.ylabel('First Difference')\n",
    "\n",
    "# Rhode Island\n",
    "RI.plot(x='year', y='first differences', label = \"Rhode Island\", color='b')\n",
    "plt.xlabel('Years')\n",
    "plt.ylabel('First Difference')\n",
    "\n",
    "# New York\n",
    "NY.plot(x='year', y='first differences', label = \"New York\", color='y')\n",
    "plt.xlabel('Years')\n",
    "plt.ylabel('First Difference')\n",
    "\n",
    "# Massachusetts\n",
    "MA.plot(x='year', y='first differences', label = \"Massachusetts\", color='m')\n",
    "plt.xlabel('Years')\n",
    "plt.ylabel('First Difference')\n",
    "plt.show()"
   ]
  },
  {
   "cell_type": "markdown",
   "id": "d02779ae",
   "metadata": {},
   "source": [
    "This is an interesting plot to use.  Using the first differences of these variables instead of the general variables shows us how big of a difference from the first observation each next observation is.  In this case, the graphs actually look fairly similar, with a period of large growth in the early 2000s (prior to Great Recession in 2006-2009).  Then, there is an extreme drop in the differences, which gradually rises up again until COVID starts.  When COVID starts, you can see that every single graph shoots up in terms of the differences.  This is not an error, it just goes to show how drastically prices have been changing since COVID started.  There are thousands of instances of houses selling for over the original list price, with the most drastic being 47% over list price (A house from Brooklyn sold for over $100k more than asking).  \n",
    "Aside from the general trends, California experienced the largest growth and the largest deprecation, all within the time period of 2000-2007. If you pay attention to the units on the y-axis, you'll see that New Jersey has the smallest variation in growth, with a graph from -10 to 30, while California has the largest, ranging from -40 to 40.  MA is a close second, at -20 to 50."
   ]
  },
  {
   "cell_type": "markdown",
   "id": "e6c47ca8",
   "metadata": {},
   "source": [
    "**Plot the first differences for the lowest 5 states**"
   ]
  },
  {
   "cell_type": "code",
   "execution_count": 463,
   "id": "24960e3d",
   "metadata": {},
   "outputs": [
    {
     "data": {
      "image/png": "[encoded data removed]",
      "text/plain": [
       "<Figure size 432x288 with 1 Axes>"
      ]
     },
     "metadata": {
      "needs_background": "light"
     },
     "output_type": "display_data"
    },
    {
     "data": {
      "image/png": "[encoded data removed]",
      "text/plain": [
       "<Figure size 432x288 with 1 Axes>"
      ]
     },
     "metadata": {
      "needs_background": "light"
     },
     "output_type": "display_data"
    },
    {
     "data": {
      "image/png": "[encoded data removed]",
      "text/plain": [
       "<Figure size 432x288 with 1 Axes>"
      ]
     },
     "metadata": {
      "needs_background": "light"
     },
     "output_type": "display_data"
    },
    {
     "data": {
      "image/png": "[encoded data removed]",
      "text/plain": [
       "<Figure size 432x288 with 1 Axes>"
      ]
     },
     "metadata": {
      "needs_background": "light"
     },
     "output_type": "display_data"
    },
    {
     "data": {
      "image/png": "[encoded data removed]",
      "text/plain": [
       "<Figure size 432x288 with 1 Axes>"
      ]
     },
     "metadata": {
      "needs_background": "light"
     },
     "output_type": "display_data"
    }
   ],
   "source": [
    "# plot of first differences for lowest 5 states\n",
    "# West Virginia\n",
    "WV.plot(x='year', y='first differences', label = \"West Virginia\", color='r')\n",
    "plt.xlabel('Years')\n",
    "plt.ylabel('First Difference')\n",
    "\n",
    "# Oklahoma\n",
    "OK.plot(x='year', y='first differences', label = \"Oklahoma\", color='g')\n",
    "plt.xlabel('Years')\n",
    "plt.ylabel('First Difference')\n",
    "\n",
    "# Louisiana\n",
    "LA.plot(x='year', y='first differences', label = \"Louisiana\", color='b')\n",
    "plt.xlabel('Years')\n",
    "plt.ylabel('First Difference')\n",
    "\n",
    "# Kansas\n",
    "KS.plot(x='year', y='first differences', label = \"Kansas\", color='y')\n",
    "plt.xlabel('Years')\n",
    "plt.ylabel('First Difference')\n",
    "\n",
    "# Texas\n",
    "TX.plot(x='year', y='first differences', label = \"Texas\", color='m')\n",
    "plt.xlabel('Years')\n",
    "plt.ylabel('First Difference')\n",
    "plt.show()"
   ]
  },
  {
   "cell_type": "markdown",
   "id": "9f54758e",
   "metadata": {},
   "source": [
    "It's interesting to see the differences between the top 5 highest HPI states, and the top 5 lowest HPI states.  In general, the first differences plots are much more mild in these lowest states compared to the highest.  Aside from West Virginia, every state for the most part follows a similar trend.  They all have larger variation in the 70s-90s, then it calms down.  These states weren't affected by the Great Recession nearly as much as the top 5 highest states, their first differences didn't really change from 2006-2010, but they did experience extremely large growth right at the end (again, when COVID started).  \n",
    "Another interesting part of these plots is how different West Virginia is from the other states.  For some reason, West Virginia has a large growth period in the 80s, then is very calm aside from that.  Even in COVID, when every other state has a skyrocket in HPI, West Virginia is fairly docile."
   ]
  },
  {
   "cell_type": "markdown",
   "id": "0b50756d",
   "metadata": {},
   "source": [
    "**Question: What are the 5 states that are closest to the average US HPI?**"
   ]
  },
  {
   "cell_type": "code",
   "execution_count": 492,
   "id": "b47cb452",
   "metadata": {},
   "outputs": [
    {
     "data": {
      "text/html": [
       "<div>\n",
       "<style scoped>\n",
       "    .dataframe tbody tr th:only-of-type {\n",
       "        vertical-align: middle;\n",
       "    }\n",
       "\n",
       "    .dataframe tbody tr th {\n",
       "        vertical-align: top;\n",
       "    }\n",
       "\n",
       "    .dataframe thead th {\n",
       "        text-align: right;\n",
       "    }\n",
       "</style>\n",
       "<table border=\"1\" class=\"dataframe\">\n",
       "  <thead>\n",
       "    <tr style=\"text-align: right;\">\n",
       "      <th></th>\n",
       "      <th>state</th>\n",
       "      <th>price</th>\n",
       "    </tr>\n",
       "  </thead>\n",
       "  <tbody>\n",
       "    <tr>\n",
       "      <th>28</th>\n",
       "      <td>IL</td>\n",
       "      <td>227.882234</td>\n",
       "    </tr>\n",
       "    <tr>\n",
       "      <th>29</th>\n",
       "      <td>SC</td>\n",
       "      <td>230.128191</td>\n",
       "    </tr>\n",
       "    <tr>\n",
       "      <th>30</th>\n",
       "      <td>MT</td>\n",
       "      <td>238.712926</td>\n",
       "    </tr>\n",
       "    <tr>\n",
       "      <th>31</th>\n",
       "      <td>UT</td>\n",
       "      <td>239.221968</td>\n",
       "    </tr>\n",
       "    <tr>\n",
       "      <th>32</th>\n",
       "      <td>FL</td>\n",
       "      <td>240.006064</td>\n",
       "    </tr>\n",
       "    <tr>\n",
       "      <th>33</th>\n",
       "      <td>US</td>\n",
       "      <td>240.156755</td>\n",
       "    </tr>\n",
       "  </tbody>\n",
       "</table>\n",
       "</div>"
      ],
      "text/plain": [
       "   state       price\n",
       "28    IL  227.882234\n",
       "29    SC  230.128191\n",
       "30    MT  238.712926\n",
       "31    UT  239.221968\n",
       "32    FL  240.006064\n",
       "33    US  240.156755"
      ]
     },
     "execution_count": 492,
     "metadata": {},
     "output_type": "execute_result"
    }
   ],
   "source": [
    "# top 5 states closest to average US housing price index.\n",
    "df7 = hpi.groupby('state')['price'].mean().sort_values().to_frame().reset_index() # returning average, sorted, in a df\n",
    "df7[df7['state'] == 'US'] # so US housing price index overall is 240.156\n",
    "# The closest 5 to the US price index are: Illinois, South Carolina, Montana, Utah, Florida, (US here)\n",
    "df7.loc[28:33]"
   ]
  },
  {
   "cell_type": "markdown",
   "id": "9f207d7f",
   "metadata": {},
   "source": [
    "These are the closest states, with US in the middle.  The US average is 240.16, and all these are within 5-13 points (These are all lower than the US, but the next closest above the US was Pennsylvanie, 15 points higher)."
   ]
  },
  {
   "cell_type": "markdown",
   "id": "386da5b7",
   "metadata": {},
   "source": [
    "# Part Two - A Few Income Questions"
   ]
  },
  {
   "cell_type": "markdown",
   "id": "cc6b4e67",
   "metadata": {},
   "source": [
    "**Question: What states have the highest and lowest average incomes in the US?**"
   ]
  },
  {
   "cell_type": "code",
   "execution_count": 493,
   "id": "3ca3e47a",
   "metadata": {},
   "outputs": [
    {
     "name": "stdout",
     "output_type": "stream",
     "text": [
      "state                 NJ\n",
      "average income    114691\n",
      "Name: 29, dtype: object\n",
      "state                MS\n",
      "average income    62835\n",
      "Name: 23, dtype: object\n"
     ]
    }
   ],
   "source": [
    "# income compared to current housing price (2021)\n",
    "# build a new data set for this.\n",
    "household_income['average income'].idxmax()\n",
    "print(household_income.loc[29])\n",
    "# new jersey has the highest average household income in the United States, at $114,691.\n",
    "\n",
    "household_income['average income'].idxmin()\n",
    "print(household_income.loc[23])\n",
    "# Mississippi has the lowest average household income in the US, at $62,835."
   ]
  },
  {
   "cell_type": "markdown",
   "id": "c415da34",
   "metadata": {},
   "source": [
    "New Jersey makes sense as having the highest average income in the US.  Given that New Jersy is one of the most expensive states to live in, an accompanying high household income is expected.  As for the lowest, I am slightly surprised that Mississippi is the state that has the lowest, but it still makes sense.  Mississippi is the seventh lowest average HPI state in the US, so it being the lowest income matches its level fairly closely."
   ]
  },
  {
   "cell_type": "markdown",
   "id": "de86e704",
   "metadata": {},
   "source": [
    "**Question: Make a column with the percent of income compared to Housing Price Index, for each state**"
   ]
  },
  {
   "cell_type": "code",
   "execution_count": 496,
   "id": "06e67db8",
   "metadata": {},
   "outputs": [],
   "source": [
    "income_hpi['Income Percent of HPI'] = (income_hpi['average income'] / income_hpi['price'])/10"
   ]
  },
  {
   "cell_type": "code",
   "execution_count": 498,
   "id": "c0330204",
   "metadata": {},
   "outputs": [
    {
     "data": {
      "text/html": [
       "<div>\n",
       "<style scoped>\n",
       "    .dataframe tbody tr th:only-of-type {\n",
       "        vertical-align: middle;\n",
       "    }\n",
       "\n",
       "    .dataframe tbody tr th {\n",
       "        vertical-align: top;\n",
       "    }\n",
       "\n",
       "    .dataframe thead th {\n",
       "        text-align: right;\n",
       "    }\n",
       "</style>\n",
       "<table border=\"1\" class=\"dataframe\">\n",
       "  <thead>\n",
       "    <tr style=\"text-align: right;\">\n",
       "      <th></th>\n",
       "      <th>state</th>\n",
       "      <th>year</th>\n",
       "      <th>quarter</th>\n",
       "      <th>price</th>\n",
       "      <th>average income</th>\n",
       "      <th>Income Percent of HPI</th>\n",
       "    </tr>\n",
       "  </thead>\n",
       "  <tbody>\n",
       "    <tr>\n",
       "      <th>0</th>\n",
       "      <td>AL</td>\n",
       "      <td>1975</td>\n",
       "      <td>1</td>\n",
       "      <td>75.09</td>\n",
       "      <td>69842</td>\n",
       "      <td>93.011053</td>\n",
       "    </tr>\n",
       "    <tr>\n",
       "      <th>1</th>\n",
       "      <td>AL</td>\n",
       "      <td>1975</td>\n",
       "      <td>2</td>\n",
       "      <td>72.29</td>\n",
       "      <td>69842</td>\n",
       "      <td>96.613640</td>\n",
       "    </tr>\n",
       "    <tr>\n",
       "      <th>2</th>\n",
       "      <td>AL</td>\n",
       "      <td>1975</td>\n",
       "      <td>3</td>\n",
       "      <td>74.60</td>\n",
       "      <td>69842</td>\n",
       "      <td>93.621984</td>\n",
       "    </tr>\n",
       "    <tr>\n",
       "      <th>3</th>\n",
       "      <td>AL</td>\n",
       "      <td>1975</td>\n",
       "      <td>4</td>\n",
       "      <td>71.76</td>\n",
       "      <td>69842</td>\n",
       "      <td>97.327202</td>\n",
       "    </tr>\n",
       "    <tr>\n",
       "      <th>4</th>\n",
       "      <td>AL</td>\n",
       "      <td>1976</td>\n",
       "      <td>1</td>\n",
       "      <td>77.17</td>\n",
       "      <td>69842</td>\n",
       "      <td>90.504082</td>\n",
       "    </tr>\n",
       "    <tr>\n",
       "      <th>...</th>\n",
       "      <td>...</td>\n",
       "      <td>...</td>\n",
       "      <td>...</td>\n",
       "      <td>...</td>\n",
       "      <td>...</td>\n",
       "      <td>...</td>\n",
       "    </tr>\n",
       "    <tr>\n",
       "      <th>9771</th>\n",
       "      <td>US</td>\n",
       "      <td>2020</td>\n",
       "      <td>4</td>\n",
       "      <td>473.21</td>\n",
       "      <td>84854</td>\n",
       "      <td>17.931574</td>\n",
       "    </tr>\n",
       "    <tr>\n",
       "      <th>9772</th>\n",
       "      <td>US</td>\n",
       "      <td>2021</td>\n",
       "      <td>1</td>\n",
       "      <td>484.35</td>\n",
       "      <td>84854</td>\n",
       "      <td>17.519149</td>\n",
       "    </tr>\n",
       "    <tr>\n",
       "      <th>9773</th>\n",
       "      <td>US</td>\n",
       "      <td>2021</td>\n",
       "      <td>2</td>\n",
       "      <td>511.06</td>\n",
       "      <td>84854</td>\n",
       "      <td>16.603530</td>\n",
       "    </tr>\n",
       "    <tr>\n",
       "      <th>9774</th>\n",
       "      <td>US</td>\n",
       "      <td>2021</td>\n",
       "      <td>3</td>\n",
       "      <td>539.58</td>\n",
       "      <td>84854</td>\n",
       "      <td>15.725935</td>\n",
       "    </tr>\n",
       "    <tr>\n",
       "      <th>9775</th>\n",
       "      <td>US</td>\n",
       "      <td>2021</td>\n",
       "      <td>4</td>\n",
       "      <td>557.73</td>\n",
       "      <td>84854</td>\n",
       "      <td>15.214172</td>\n",
       "    </tr>\n",
       "  </tbody>\n",
       "</table>\n",
       "<p>9776 rows × 6 columns</p>\n",
       "</div>"
      ],
      "text/plain": [
       "     state  year  quarter   price  average income  Income Percent of HPI\n",
       "0       AL  1975        1   75.09           69842              93.011053\n",
       "1       AL  1975        2   72.29           69842              96.613640\n",
       "2       AL  1975        3   74.60           69842              93.621984\n",
       "3       AL  1975        4   71.76           69842              97.327202\n",
       "4       AL  1976        1   77.17           69842              90.504082\n",
       "...    ...   ...      ...     ...             ...                    ...\n",
       "9771    US  2020        4  473.21           84854              17.931574\n",
       "9772    US  2021        1  484.35           84854              17.519149\n",
       "9773    US  2021        2  511.06           84854              16.603530\n",
       "9774    US  2021        3  539.58           84854              15.725935\n",
       "9775    US  2021        4  557.73           84854              15.214172\n",
       "\n",
       "[9776 rows x 6 columns]"
      ]
     },
     "execution_count": 498,
     "metadata": {},
     "output_type": "execute_result"
    }
   ],
   "source": [
    "income_hpi"
   ]
  },
  {
   "cell_type": "markdown",
   "id": "40504b54",
   "metadata": {},
   "source": [
    "I think these results are interesting because it can show you just how fast the housing price index changes compared to income.  A good example of this is the tail of the prior code, which shows that in just 1 year (2020.4 to 2021.4) income changed from 17.93% to 15.21% of HPI.  It just goes to show how drastic and fast these changes are taking place."
   ]
  },
  {
   "cell_type": "markdown",
   "id": "59af7f6f",
   "metadata": {},
   "source": [
    "**Plot the top 5 highest HPI States' Incomes**"
   ]
  },
  {
   "cell_type": "code",
   "execution_count": 418,
   "id": "f39653aa",
   "metadata": {},
   "outputs": [
    {
     "data": {
      "image/png": "[encoded data removed]",
      "text/plain": [
       "<Figure size 432x288 with 1 Axes>"
      ]
     },
     "metadata": {
      "needs_background": "light"
     },
     "output_type": "display_data"
    }
   ],
   "source": [
    "# Plot the top 5 highest HPI states incomes\n",
    "income_t5 = top_5.groupby('state')['average income'].mean().sort_values()\n",
    "income_t5.plot(x ='state', y='average income', kind = 'bar', color='g')\n",
    "plt.xlabel('States')\n",
    "plt.ylabel('Average Household Income')\n",
    "plt.title('Top 5 Highest HPI States Incomes')\n",
    "plt.show()"
   ]
  },
  {
   "cell_type": "markdown",
   "id": "040a6ee2",
   "metadata": {},
   "source": [
    "*Note the axis on this graph, goes from 0 to 120,000, while the lowest Income States goes from 0-80,000.*"
   ]
  },
  {
   "cell_type": "markdown",
   "id": "1cd2773b",
   "metadata": {},
   "source": [
    "**Plot the top 5 lowest HPI States Incomes**"
   ]
  },
  {
   "cell_type": "code",
   "execution_count": 419,
   "id": "a81d8381",
   "metadata": {
    "scrolled": true
   },
   "outputs": [
    {
     "data": {
      "image/png": "[encoded data removed]",
      "text/plain": [
       "<Figure size 432x288 with 1 Axes>"
      ]
     },
     "metadata": {
      "needs_background": "light"
     },
     "output_type": "display_data"
    }
   ],
   "source": [
    "# Plot the top 5 lowest HPI states income\n",
    "income_b5 = bottom_5.groupby('state')['average income'].mean().sort_values()\n",
    "income_b5.plot(x ='state', y='average income', kind = 'bar', color='r')\n",
    "plt.xlabel('States')\n",
    "plt.ylabel('Average Household Income')\n",
    "plt.title('Top 5 Lowest HPI States Incomes')\n",
    "plt.show()"
   ]
  },
  {
   "cell_type": "markdown",
   "id": "f08cefed",
   "metadata": {},
   "source": [
    "*Again, this graph is only up to 80,000, while the other reaches 120,000*"
   ]
  },
  {
   "cell_type": "markdown",
   "id": "cca3d0cd",
   "metadata": {},
   "source": [
    "**What are the 5 closest states to US Income?**"
   ]
  },
  {
   "cell_type": "code",
   "execution_count": 501,
   "id": "0fa52551",
   "metadata": {},
   "outputs": [
    {
     "data": {
      "text/html": [
       "<div>\n",
       "<style scoped>\n",
       "    .dataframe tbody tr th:only-of-type {\n",
       "        vertical-align: middle;\n",
       "    }\n",
       "\n",
       "    .dataframe tbody tr th {\n",
       "        vertical-align: top;\n",
       "    }\n",
       "\n",
       "    .dataframe thead th {\n",
       "        text-align: right;\n",
       "    }\n",
       "</style>\n",
       "<table border=\"1\" class=\"dataframe\">\n",
       "  <thead>\n",
       "    <tr style=\"text-align: right;\">\n",
       "      <th></th>\n",
       "      <th>state</th>\n",
       "      <th>average income</th>\n",
       "    </tr>\n",
       "  </thead>\n",
       "  <tbody>\n",
       "    <tr>\n",
       "      <th>29</th>\n",
       "      <td>OR</td>\n",
       "      <td>84258.0</td>\n",
       "    </tr>\n",
       "    <tr>\n",
       "      <th>30</th>\n",
       "      <td>PA</td>\n",
       "      <td>84849.0</td>\n",
       "    </tr>\n",
       "    <tr>\n",
       "      <th>31</th>\n",
       "      <td>US</td>\n",
       "      <td>84854.0</td>\n",
       "    </tr>\n",
       "    <tr>\n",
       "      <th>32</th>\n",
       "      <td>ND</td>\n",
       "      <td>85476.0</td>\n",
       "    </tr>\n",
       "    <tr>\n",
       "      <th>33</th>\n",
       "      <td>TX</td>\n",
       "      <td>87260.0</td>\n",
       "    </tr>\n",
       "  </tbody>\n",
       "</table>\n",
       "</div>"
      ],
      "text/plain": [
       "   state  average income\n",
       "29    OR         84258.0\n",
       "30    PA         84849.0\n",
       "31    US         84854.0\n",
       "32    ND         85476.0\n",
       "33    TX         87260.0"
      ]
     },
     "execution_count": 501,
     "metadata": {},
     "output_type": "execute_result"
    }
   ],
   "source": [
    "# What are the 5 closest states to US income?\n",
    "close_to_us = income_hpi.groupby('state')['average income'].mean().sort_values().to_frame().reset_index()\n",
    "close_to_us.loc[29:33]"
   ]
  },
  {
   "cell_type": "markdown",
   "id": "eaaf6a75",
   "metadata": {},
   "source": [
    "This shows that the closest to the overall average income in the United States are Oregon, Pennsylvania, North Dakota, and Texas.  The US average is 84,854, and these vary by 5 dollars to 2676 dollars."
   ]
  },
  {
   "cell_type": "markdown",
   "id": "5d84d0b3",
   "metadata": {},
   "source": [
    "## Overall Conclusion"
   ]
  },
  {
   "cell_type": "markdown",
   "id": "4b664a71",
   "metadata": {},
   "source": [
    "Overall, this was a fun project to work on.  It was interesting to see the different states that were the most expensive versus least expensive, those that had the highest and lowest income, and those that were closest to the overall average of the US.  I think the most shocking information came from the differences in the plots of first differences between the top 5 highest HPI states, and the top 5 lowest HPI states.  The graphs in their respective groups were nearly the exact same, with West Virginia being an outlier, but seeing that the Great Recession didn't really effect the lower HPI states compared to the higher HPI states was interesting.  \n",
    "I was not surprised to see that the largest period of growth for most states was in the early 2000s, as there were ARMs (Adjustable-rate mortgages).  These stimulated the growth of the housing market in the early 2000s, but were only available for a few yers, and once they expired, people were forced to give much higher mortgage payments, in large part causing the massive collapse of the economy.  So this extremely fluctuating time of growth and deprecation makes sense.  Seeing as how in West Virginia the main period of growth was in the 1980s, it makes me curious as to what might have happened specifically in that state's housing market at that time.  Even in times of COVID, where everything is being upsold above asking price, WV still didn't experience it's highest growth.  \n",
    "Anyways, this is the conclusion of my project, I think that this shows some of the interesting parts of the housing market, as well as shows just how far housing prices have risen since the 70s.  \n",
    "**I worked on this project by myself, so I am responsible for all parts, no team members.**"
   ]
  },
  {
   "cell_type": "markdown",
   "id": "b539f69c",
   "metadata": {},
   "source": [
    "## Summary of Questions Answered"
   ]
  },
  {
   "cell_type": "markdown",
   "id": "cf1f128c",
   "metadata": {},
   "source": [
    "Questions Answered:\n",
    "* Merge the datasets for income and HPI together\n",
    "* Which state starts with the highest HPI\n",
    "* Which state starts with the lowest HPI\n",
    "* Which state ends with the highest HPI\n",
    "* Which state ends with the lowest HPI"
   ]
  },
  {
   "cell_type": "markdown",
   "id": "d62e6697",
   "metadata": {},
   "source": [
    "* Which state has the lowest AVERAGE HPI\n",
    "* Which state has the highest AVERAGE HPI"
   ]
  },
  {
   "cell_type": "markdown",
   "id": "12d57849",
   "metadata": {},
   "source": [
    "* Top 5 states with the highest avg HPI\n",
    "* Plot of the top 5 states with the highest avg HPI\n",
    "  \n",
    "* Top 5 states with the LOWEST avg HPI\n",
    "* Plot of the top 5 states with the lowest avg HPI"
   ]
  },
  {
   "cell_type": "markdown",
   "id": "cffd21b2",
   "metadata": {},
   "source": [
    "* Plot of top 5 states highest HPI first differences\n",
    "* Plot of top 5 states LOWEST HPI first differences\n",
    "* What are the 5 states closest to the US average HPI"
   ]
  },
  {
   "cell_type": "markdown",
   "id": "3ad8c592",
   "metadata": {},
   "source": [
    "* Which states have the highest and lowest average income?\n",
    "* Make a column showing the percentage of income to HPI for each state"
   ]
  },
  {
   "cell_type": "markdown",
   "id": "f15226ed",
   "metadata": {},
   "source": [
    "* Plot the top 5 highest HPI states incomes\n",
    "* Plot the top 5 lowest HPI states incomes\n",
    "* What are the 5 states closest to the US Average Income?"
   ]
  },
  {
   "cell_type": "code",
   "execution_count": null,
   "id": "12e2bdfc",
   "metadata": {},
   "outputs": [],
   "source": []
  }
 ],
 "metadata": {
  "kernelspec": {
   "display_name": "Python 3 (ipykernel)",
   "language": "python",
   "name": "python3"
  },
  "language_info": {
   "codemirror_mode": {
    "name": "ipython",
    "version": 3
   },
   "file_extension": ".py",
   "mimetype": "text/x-python",
   "name": "python",
   "nbconvert_exporter": "python",
   "pygments_lexer": "ipython3",
   "version": "3.9.7"
  }
 },
 "nbformat": 4,
 "nbformat_minor": 5
}
